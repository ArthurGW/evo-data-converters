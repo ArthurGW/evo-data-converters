{
 "cells": [
  {
   "cell_type": "markdown",
   "id": "0",
   "metadata": {},
   "source": [
    "# Demo of RESQML Attribute Conversion\n",
    "Attributes covered are (Geoscience schema object names in brackets):\n",
    "* Discrete (IntegerAttribute)\n",
    "* Continuous (ContinuousAttribute)\n",
    "* Categorical (CategoryAttribute)\n",
    "* Points (VectorAttribute)"
   ]
  },
  {
   "cell_type": "code",
   "execution_count": null,
   "id": "1",
   "metadata": {},
   "outputs": [],
   "source": [
    "from pprint import pprint"
   ]
  },
  {
   "cell_type": "markdown",
   "id": "2",
   "metadata": {},
   "source": [
    "Import our conversion code"
   ]
  },
  {
   "cell_type": "code",
   "execution_count": null,
   "id": "3",
   "metadata": {},
   "outputs": [],
   "source": [
    "from evo.data_converters.common.evo_client import EvoWorkspaceMetadata, create_evo_object_service_and_data_client\n",
    "from evo.data_converters.resqml.importer._attribute_converters import (\n",
    "    convert_categorical_property,\n",
    "    convert_continuous_property,\n",
    "    convert_discrete_property,\n",
    "    convert_points_property,\n",
    "    create_category_lookup_and_data,\n",
    ")"
   ]
  },
  {
   "cell_type": "markdown",
   "id": "4",
   "metadata": {},
   "source": [
    "Create a data_client object which we can use to save data"
   ]
  },
  {
   "cell_type": "code",
   "execution_count": null,
   "id": "5",
   "metadata": {},
   "outputs": [],
   "source": [
    "_, data_client = create_evo_object_service_and_data_client(EvoWorkspaceMetadata(org_id=\"\", workspace_id=\"\"))"
   ]
  },
  {
   "cell_type": "markdown",
   "id": "6",
   "metadata": {},
   "source": [
    "And import the target Geoscience Objects"
   ]
  },
  {
   "cell_type": "code",
   "execution_count": null,
   "id": "7",
   "metadata": {},
   "outputs": [],
   "source": [
    "from evo_schemas.components import CategoryAttribute_V1_0_1 as CategoryAttribute\n",
    "from evo_schemas.components import ContinuousAttribute_V1_0_1 as ContinuousAttribute\n",
    "from evo_schemas.components import IntegerAttribute_V1_0_1 as IntegerAttribute\n",
    "from evo_schemas.components import VectorAttribute_V1_0_0 as VectorAttribute"
   ]
  },
  {
   "cell_type": "markdown",
   "id": "8",
   "metadata": {},
   "source": [
    "Create a RESQML Model and add a RegularGrid to it"
   ]
  },
  {
   "cell_type": "code",
   "execution_count": null,
   "id": "9",
   "metadata": {},
   "outputs": [],
   "source": [
    "from os import path\n",
    "\n",
    "import resqpy.grid as rqg\n",
    "import resqpy.model as rqm\n",
    "import resqpy.property as rqp"
   ]
  },
  {
   "cell_type": "code",
   "execution_count": null,
   "id": "10",
   "metadata": {},
   "outputs": [],
   "source": [
    "# Create a Model and add a Grid to it\n",
    "model_file = \"demo_attribute_conversion.epc\"\n",
    "mymodel = rqm.new_model(model_file)\n",
    "\n",
    "mygrid = rqg.RegularGrid(mymodel, extent_kji=(2, 3, 4), title=\"Test Grid\")\n",
    "mygrid.write_hdf5()\n",
    "mygrid.create_xml(add_relationships=False, write_active=False, write_geometry=False, add_cell_length_properties=False)"
   ]
  },
  {
   "cell_type": "markdown",
   "id": "11",
   "metadata": {},
   "source": [
    "Create some utility code to help with generating and checking the data"
   ]
  },
  {
   "cell_type": "code",
   "execution_count": null,
   "id": "12",
   "metadata": {},
   "outputs": [],
   "source": [
    "import numpy as np\n",
    "import pandas as pd\n",
    "import pyarrow.parquet as pq\n",
    "\n",
    "\n",
    "def get_data_from_parquet_file(pq_hash, data_client):\n",
    "    return pq.read_table(path.join(data_client.cache_location, pq_hash)).to_pandas()\n",
    "\n",
    "\n",
    "def check_data_is_valid(resqml_data, go_data):\n",
    "    flattened_values = resqml_data.flatten()\n",
    "    resqml_data_as_df = pd.DataFrame(flattened_values, columns=[\"data\"])\n",
    "    for resqml, go in zip(resqml_data_as_df, go_data):\n",
    "        if resqml != go:\n",
    "            return False\n",
    "    return True\n",
    "\n",
    "\n",
    "def check_lookup_table_is_valid(resqml_lookup_df, go_lookup_df):\n",
    "    return resqml_lookup_df.size == go_lookup_df.size and np.all(resqml_lookup_df == go_lookup_df)\n",
    "\n",
    "\n",
    "# Random data generator\n",
    "rand = np.random.default_rng()"
   ]
  },
  {
   "cell_type": "markdown",
   "id": "13",
   "metadata": {},
   "source": [
    "# RESQML Discrete Property"
   ]
  },
  {
   "cell_type": "code",
   "execution_count": null,
   "id": "14",
   "metadata": {},
   "outputs": [],
   "source": [
    "discrete_data = rand.integers(1, 10, mygrid.extent_kji)\n",
    "discrete_property = rqp.Property.from_array(\n",
    "    mymodel,\n",
    "    discrete_data,\n",
    "    discrete=True,\n",
    "    source_info=\"test data\",\n",
    "    property_kind=\"DiscreteProperty\",\n",
    "    indexable_element=\"cells\",\n",
    "    keyword=\"Discrete Property Test\",\n",
    "    support_uuid=mygrid.uuid,\n",
    "    uom=\"m\",\n",
    ")"
   ]
  },
  {
   "cell_type": "markdown",
   "id": "15",
   "metadata": {},
   "source": [
    "Convert the RESQML Discrete Property -> Geoscience Object IntegerAttribute"
   ]
  },
  {
   "cell_type": "code",
   "execution_count": null,
   "id": "16",
   "metadata": {},
   "outputs": [],
   "source": [
    "property = discrete_property\n",
    "title = property.citation_title\n",
    "go = convert_discrete_property(property, data_client)\n",
    "pprint(go)\n",
    "if isinstance(go, IntegerAttribute):\n",
    "    print(f\"Property '{title}' was returned as an IntegerAttribute\")\n",
    "else:\n",
    "    print(\"Boo!\")"
   ]
  },
  {
   "cell_type": "markdown",
   "id": "17",
   "metadata": {},
   "source": [
    "View the discrete data"
   ]
  },
  {
   "cell_type": "code",
   "execution_count": null,
   "id": "18",
   "metadata": {},
   "outputs": [],
   "source": [
    "print(pq.read_table(path.join(data_client.cache_location, go.values.data)).to_pandas())"
   ]
  },
  {
   "cell_type": "markdown",
   "id": "19",
   "metadata": {},
   "source": [
    "Check that the source data from RESQML matches the data in our Geoscience Object"
   ]
  },
  {
   "cell_type": "code",
   "execution_count": null,
   "id": "20",
   "metadata": {},
   "outputs": [],
   "source": [
    "if check_data_is_valid(discrete_property.array_ref(), get_data_from_parquet_file(go.values.data, data_client)):\n",
    "    print(\"Data is OK\")\n",
    "else:\n",
    "    print(\"Data is INVALID\")"
   ]
  },
  {
   "cell_type": "markdown",
   "id": "21",
   "metadata": {},
   "source": [
    "# RESQML Continuous Property"
   ]
  },
  {
   "cell_type": "code",
   "execution_count": null,
   "id": "22",
   "metadata": {},
   "outputs": [],
   "source": [
    "continuous_data = rand.random(mygrid.extent_kji).astype(np.float64)\n",
    "continuous_property = rqp.Property.from_array(\n",
    "    mymodel,\n",
    "    continuous_data,\n",
    "    dtype=np.float64,\n",
    "    discrete=False,\n",
    "    source_info=\"test data\",\n",
    "    property_kind=\"ContinuousProperty\",\n",
    "    indexable_element=\"cells\",\n",
    "    keyword=\"Continuous Property Test\",\n",
    "    support_uuid=mygrid.uuid,\n",
    "    uom=\"m\",\n",
    ")"
   ]
  },
  {
   "cell_type": "code",
   "execution_count": null,
   "id": "23",
   "metadata": {},
   "outputs": [],
   "source": [
    "property = continuous_property\n",
    "title = property.citation_title\n",
    "go = convert_continuous_property(property, data_client)\n",
    "pprint(go)\n",
    "if isinstance(go, ContinuousAttribute):\n",
    "    print(f\"Property '{title}' was returned as a ContinuousAttribute\")\n",
    "else:\n",
    "    print(\"Boo!\")"
   ]
  },
  {
   "cell_type": "markdown",
   "id": "24",
   "metadata": {},
   "source": [
    "View continuous data"
   ]
  },
  {
   "cell_type": "code",
   "execution_count": null,
   "id": "25",
   "metadata": {},
   "outputs": [],
   "source": [
    "print(pq.read_table(path.join(data_client.cache_location, go.values.data)).to_pandas())"
   ]
  },
  {
   "cell_type": "markdown",
   "id": "26",
   "metadata": {},
   "source": [
    "Check that the source data from RESQML matches the data in our Geoscience Object"
   ]
  },
  {
   "cell_type": "code",
   "execution_count": null,
   "id": "27",
   "metadata": {},
   "outputs": [],
   "source": [
    "if check_data_is_valid(continuous_property.array_ref(), get_data_from_parquet_file(go.values.data, data_client)):\n",
    "    print(\"Data is OK\")\n",
    "else:\n",
    "    print(\"Data is INVALID\")"
   ]
  },
  {
   "cell_type": "markdown",
   "id": "28",
   "metadata": {},
   "source": [
    "# RESQML Categorical Property"
   ]
  },
  {
   "cell_type": "code",
   "execution_count": null,
   "id": "29",
   "metadata": {},
   "outputs": [],
   "source": [
    "# create a set of category labels in our model\n",
    "string_lookup = rqp.StringLookup(mymodel)\n",
    "string_lookup.set_string(\"0\", \"sandstone\")\n",
    "string_lookup.set_string(\"1\", \"shale\")\n",
    "string_lookup.set_string(\"2\", \"limestone\")\n",
    "string_lookup.create_xml()\n",
    "\n",
    "# lookup table\n",
    "lookup_as_dict = string_lookup.as_dict()\n",
    "indices = list(lookup_as_dict.keys())\n",
    "names = lookup_as_dict.values()\n",
    "table_df = pd.DataFrame({\"data\": names, \"index\": indices})\n",
    "table_df.set_index(\"index\", inplace=True)\n",
    "lookup_table_df, values_df = create_category_lookup_and_data(table_df)\n",
    "\n",
    "# randomly assign a category to each cell\n",
    "categorical_data = rand.integers(0, 3, size=mygrid.extent_kji)\n",
    "categorical_property = rqp.Property.from_array(\n",
    "    mymodel,\n",
    "    categorical_data,\n",
    "    discrete=True,\n",
    "    source_info=\"test data\",\n",
    "    property_kind=\"CategoricalProperty\",\n",
    "    indexable_element=\"cells\",\n",
    "    keyword=\"Categorical Property Test\",\n",
    "    support_uuid=mygrid.uuid,\n",
    "    string_lookup_uuid=string_lookup.uuid,\n",
    "    uom=\"m\",\n",
    ")"
   ]
  },
  {
   "cell_type": "code",
   "execution_count": null,
   "id": "30",
   "metadata": {},
   "outputs": [],
   "source": [
    "property = categorical_property\n",
    "title = property.citation_title\n",
    "go = convert_categorical_property(mymodel, property, data_client)\n",
    "pprint(go)"
   ]
  },
  {
   "cell_type": "code",
   "execution_count": null,
   "id": "31",
   "metadata": {},
   "outputs": [],
   "source": [
    "if isinstance(go, CategoryAttribute):\n",
    "    print(f\"Property '{title}' was returned as a CategoryAttribute\")\n",
    "else:\n",
    "    print(f\"ERROR {title} was NOT returned as a CategoryAttribute!\")"
   ]
  },
  {
   "cell_type": "markdown",
   "id": "32",
   "metadata": {},
   "source": [
    "View the resulting Geoscience Object lookup table, followed by the categorical data"
   ]
  },
  {
   "cell_type": "code",
   "execution_count": null,
   "id": "33",
   "metadata": {},
   "outputs": [],
   "source": [
    "print(pq.read_table(path.join(data_client.cache_location, go.table.data)).to_pandas())\n",
    "print(pq.read_table(path.join(data_client.cache_location, go.values.data)).to_pandas())"
   ]
  },
  {
   "cell_type": "markdown",
   "id": "34",
   "metadata": {},
   "source": [
    "Check the data values are valid"
   ]
  },
  {
   "cell_type": "code",
   "execution_count": null,
   "id": "35",
   "metadata": {},
   "outputs": [],
   "source": [
    "if check_data_is_valid(categorical_property.array_ref(), get_data_from_parquet_file(go.values.data, data_client)):\n",
    "    print(\"Data is OK\")\n",
    "else:\n",
    "    print(\"Data is INVALID\")"
   ]
  },
  {
   "cell_type": "markdown",
   "id": "36",
   "metadata": {},
   "source": [
    "Check the lookup table is ok"
   ]
  },
  {
   "cell_type": "code",
   "execution_count": null,
   "id": "37",
   "metadata": {},
   "outputs": [],
   "source": [
    "if check_lookup_table_is_valid(lookup_table_df, get_data_from_parquet_file(go.table.data, data_client)):\n",
    "    print(\"Lookup table is OK\")\n",
    "else:\n",
    "    print(\"Lookup table is INVALID\")\n",
    "print(f\"RESQML Lookup:\\n{lookup_table_df}\")\n",
    "print(f\"GO Lookup:\\n{get_data_from_parquet_file(go.table.data, data_client)}\")"
   ]
  },
  {
   "cell_type": "markdown",
   "id": "38",
   "metadata": {},
   "source": [
    "# RESQML Points Property"
   ]
  },
  {
   "cell_type": "code",
   "execution_count": null,
   "id": "39",
   "metadata": {},
   "outputs": [],
   "source": [
    "import resqpy.olio.vector_utilities as vec\n",
    "\n",
    "if mygrid.property_collection is None:\n",
    "    mygrid.property_collection = rqp.PropertyCollection(support=mygrid)\n",
    "pc = mygrid.property_collection\n",
    "\n",
    "# Define shape to be the grid plus x,y,z points\n",
    "points_extent = tuple(list(mygrid.extent_kji) + [3])\n",
    "\n",
    "# Create a static points property with some random stress data\n",
    "stress = vec.unit_vectors(np.random.random(points_extent) + 0.1)\n",
    "pc.add_cached_array_to_imported_list(\n",
    "    cached_array=stress,\n",
    "    source_info=\"random stress vectors\",\n",
    "    keyword=\"stress direction\",\n",
    "    uom=\"m\",\n",
    "    property_kind=\"length\",\n",
    "    indexable_element=\"cells\",\n",
    "    points=True,\n",
    ")\n",
    "pc.write_hdf5_for_imported_list()\n",
    "pc.create_xml_for_imported_list_and_add_parts_to_model()\n",
    "mymodel.store_epc()\n",
    "\n",
    "points_part = pc.singleton(citation_title=\"stress direction\", points=True)\n",
    "stress_uuid = pc.uuid_for_part(points_part)\n",
    "points_property = rqp.Property(mymodel, uuid=stress_uuid)"
   ]
  },
  {
   "cell_type": "code",
   "execution_count": null,
   "id": "40",
   "metadata": {},
   "outputs": [],
   "source": [
    "property = points_property\n",
    "title = property.citation_title\n",
    "go = convert_points_property(property, data_client)\n",
    "pprint(go)"
   ]
  },
  {
   "cell_type": "code",
   "execution_count": null,
   "id": "41",
   "metadata": {},
   "outputs": [],
   "source": [
    "if isinstance(go, VectorAttribute):\n",
    "    print(f\"Property '{title}' was returned as a VectorAttribute\")\n",
    "else:\n",
    "    print(f\"ERROR {title} was NOT returned as a VectorAttribute!\")"
   ]
  },
  {
   "cell_type": "markdown",
   "id": "42",
   "metadata": {},
   "source": [
    "View the resulting Geoscience Object lookup table, followed by the categorical data"
   ]
  },
  {
   "cell_type": "code",
   "execution_count": null,
   "id": "43",
   "metadata": {},
   "outputs": [],
   "source": [
    "print(pq.read_table(path.join(data_client.cache_location, go.values.data)).to_pandas())"
   ]
  },
  {
   "cell_type": "markdown",
   "id": "44",
   "metadata": {},
   "source": [
    "Check the data is Ok"
   ]
  },
  {
   "cell_type": "code",
   "execution_count": null,
   "id": "45",
   "metadata": {},
   "outputs": [],
   "source": [
    "prop_data = points_property.array_ref().reshape(-1, 3)\n",
    "go_data = get_data_from_parquet_file(go.values.data, data_client).to_numpy()\n",
    "if go_data.all() == prop_data.all():\n",
    "    print(\"Data is OK\")\n",
    "else:\n",
    "    print(\"Data is INVALID\")"
   ]
  }
 ],
 "metadata": {
  "kernelspec": {
   "display_name": "Python 3 (ipykernel)",
   "language": "python",
   "name": "python3"
  },
  "language_info": {
   "codemirror_mode": {
    "name": "ipython",
    "version": 3
   },
   "file_extension": ".py",
   "mimetype": "text/x-python",
   "name": "python",
   "nbconvert_exporter": "python",
   "pygments_lexer": "ipython3",
   "version": "3.10.15"
  }
 },
 "nbformat": 4,
 "nbformat_minor": 5
}
