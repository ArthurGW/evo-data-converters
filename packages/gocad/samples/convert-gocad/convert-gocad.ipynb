{
 "cells": [
  {
   "cell_type": "markdown",
   "id": "0",
   "metadata": {},
   "source": [
    "# Publish geoscience objects from a GOCAD file\n",
    "\n",
    "This notebook shows how you can sign in and publish geoscience objects from a GOCAD file to your chosen Evo workspace.\n",
    "\n",
    "In this first cell we create a ServiceManagerWidget which will open a browser window and ask you to sign in.\n",
    "\n",
    "Once signed in, a widget will be displayed to allow you to select your organisation and an Evo workspace.\n",
    "\n",
    "__Required:__ You must fill in your `client_id` before running this cell."
   ]
  },
  {
   "cell_type": "code",
   "execution_count": null,
   "id": "1",
   "metadata": {},
   "outputs": [],
   "source": [
    "from evo.notebooks import ServiceManagerWidget\n",
    "\n",
    "manager = await ServiceManagerWidget.with_auth_code(client_id=\"your-client-id\").login()"
   ]
  },
  {
   "cell_type": "markdown",
   "id": "2",
   "metadata": {},
   "source": [
    "In the cell below we choose the GOCAD files we want to publish and set its path in the `gocad_file` variable.\n",
    "\n",
    "Then we choose an EPSG code to use for the Coordinate Reference System.\n",
    "\n",
    "You may also specify tags to add to the created Geoscience objects.\n",
    "\n",
    "Then we call `convert_gocad`, passing it the GOCAD file path, EPSG code, the service manager widget from above, and finally a path we want the published objects to appear under.\n",
    "\n",
    "Then we loop over the results from the `convert_gocad` function, printing out each object that was published to Evo."
   ]
  },
  {
   "cell_type": "code",
   "execution_count": null,
   "id": "3",
   "metadata": {},
   "outputs": [],
   "source": [
    "import os\n",
    "from evo.data_converters.gocad.importer import convert_gocad\n",
    "\n",
    "gocad_file = os.path.join(os.getcwd(), \"data/input/3D_grid_GOCAD.vo\")\n",
    "epsg_code = 32650\n",
    "\n",
    "tags = {\"Source\": \"Jupter Notebook\"}\n",
    "\n",
    "objects_metadata = convert_gocad(\n",
    "    filepath=gocad_file, epsg_code=epsg_code, service_manager_widget=manager, tags=tags, upload_path=\"notebook\"\n",
    ")\n",
    "\n",
    "print(\"These objects have now been published:\")\n",
    "\n",
    "display(objects_metadata)"
   ]
  }
 ],
 "metadata": {
  "kernelspec": {
   "display_name": "Python 3",
   "language": "python",
   "name": "python3"
  },
  "language_info": {
   "codemirror_mode": {
    "name": "ipython",
    "version": 3
   },
   "file_extension": ".py",
   "mimetype": "text/x-python",
   "name": "python",
   "nbconvert_exporter": "python",
   "pygments_lexer": "ipython3",
   "version": "3.10.0"
  }
 },
 "nbformat": 4,
 "nbformat_minor": 5
}
