{
 "cells": [
  {
   "cell_type": "code",
   "execution_count": null,
   "metadata": {},
   "outputs": [],
   "source": [
    "# Enter your access token and Evo services to be searched.\n",
    "\n",
    "access_token = \"\"\n",
    "services = {\"blockmodel\", \"geoscienceobject\", \"file\"}"
   ]
  },
  {
   "cell_type": "code",
   "execution_count": null,
   "metadata": {},
   "outputs": [],
   "source": [
    "import json\n",
    "\n",
    "import requests\n",
    "\n",
    "auth_header = {\"Authorization\": \"Bearer \" + access_token}\n",
    "\n",
    "base_url = \"https://discover.api.seequent.com/evo/identity/v2/discovery\"\n",
    "\n",
    "# Add Evo services as URL query parameters.\n",
    "query_params = \"&\".join([f\"service={service}\" for service in services])\n",
    "url = f\"{base_url}?{query_params}\"\n",
    "print(f\"GET {url}\")\n",
    "\n",
    "response = requests.get(url, headers=auth_header)\n",
    "response_output = json.dumps(response.json(), indent=4)\n",
    "print(response_output)"
   ]
  }
 ],
 "metadata": {
  "kernelspec": {
   "display_name": ".venv",
   "language": "python",
   "name": "python3"
  },
  "language_info": {
   "codemirror_mode": {
    "name": "ipython",
    "version": 3
   },
   "file_extension": ".py",
   "mimetype": "text/x-python",
   "name": "python",
   "nbconvert_exporter": "python",
   "pygments_lexer": "ipython3",
   "version": "3.12.0"
  }
 },
 "nbformat": 4,
 "nbformat_minor": 2
}
