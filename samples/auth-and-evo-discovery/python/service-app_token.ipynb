{
 "cells": [
  {
   "cell_type": "code",
   "execution_count": null,
   "metadata": {},
   "outputs": [],
   "source": [
    "# Add your client ID, client secret and Evo scopes here.\n",
    "\n",
    "client_id = \"\"\n",
    "client_secret = \"\"\n",
    "scope = \"evo.workspaces evo.discovery evo.objects evo.blocksync\""
   ]
  },
  {
   "cell_type": "code",
   "execution_count": null,
   "metadata": {},
   "outputs": [],
   "source": [
    "import datetime\n",
    "from http import HTTPStatus\n",
    "\n",
    "import jwt\n",
    "import requests\n",
    "\n",
    "url = \"https://ims.bentley.com/connect/token\"\n",
    "\n",
    "params = {\n",
    "    \"grant_type\": \"client_credentials\",\n",
    "    \"client_id\": client_id,\n",
    "    \"client_secret\": client_secret,\n",
    "    \"scope\": scope,\n",
    "}\n",
    "\n",
    "response = requests.post(url, data=params)\n",
    "\n",
    "if response.status_code != HTTPStatus.OK:\n",
    "    raise RuntimeError(f\"Failed to get token: {response.status_code} {response.reason}\")\n",
    "\n",
    "token = response.json()[\"access_token\"]\n",
    "\n",
    "print(\"Access token:\")\n",
    "print(token)\n",
    "\n",
    "decoded = jwt.decode(token, options={\"verify_signature\": False}, algorithms=[\"RS256\"])\n",
    "exp_timestamp = decoded[\"exp\"]\n",
    "exp_datetime = datetime.datetime.fromtimestamp(exp_timestamp, datetime.timezone.utc)\n",
    "print(f\"Token expires at:\\n{exp_datetime} UTC\")"
   ]
  }
 ],
 "metadata": {
  "kernelspec": {
   "display_name": ".venv",
   "language": "python",
   "name": "python3"
  },
  "language_info": {
   "codemirror_mode": {
    "name": "ipython",
    "version": 3
   },
   "file_extension": ".py",
   "mimetype": "text/x-python",
   "name": "python",
   "nbconvert_exporter": "python",
   "pygments_lexer": "ipython3",
   "version": "3.12.0"
  }
 },
 "nbformat": 4,
 "nbformat_minor": 2
}
